{
 "cells": [
  {
   "cell_type": "markdown",
   "metadata": {},
   "source": [
    "## Python Project: Web Scrapping Instagram Data With Selenium"
   ]
  },
  {
   "cell_type": "markdown",
   "metadata": {},
   "source": [
    "### What is Selenium?\n",
    "\n",
    "#### Selenium is a powerful tool for controlling web browsers through programs and performing browser automation. It is functional for all browsers, works on all major OS and its scripts are written in various languages i.e Python, Java, C#, etc, we will be working with Python."
   ]
  },
  {
   "cell_type": "markdown",
   "metadata": {},
   "source": [
    "### Where you can run Selenium?\n",
    "\n",
    "#### You can run Selenium with Python scripts for Firefox, Chrome, IE, etc. on different Operating Systems."
   ]
  },
  {
   "cell_type": "markdown",
   "metadata": {},
   "source": [
    "### Why to learn Selenium - Python?\n",
    "\n",
    "#### Open Source and Portable – Selenium is an open source and portable Web testing Framework.\n",
    "#### Combination of tool and DSL – Selenium is combination of tools and DSL (Domain Specific Language) in order to carry out various types of tests.\n",
    "#### Easier to understand and implement – Selenium commands are categorized in terms of different classes which make it easier to understand and implement.\n",
    "#### Less burden and stress for testers – As mentioned above, the amount of time required to do testing repeated test scenarios on each and every new build is reduced to zero, almost. Hence, the burden of tester gets reduced.\n",
    "#### Cost reduction for the Business Clients – The Business needs to pay the testers their salary, which is saved using automation testing tool. The automation not only saves time but gets cost benefits too, to the business."
   ]
  },
  {
   "cell_type": "markdown",
   "metadata": {},
   "source": [
    "## AUTOMATING IMAGE EXTRACTION"
   ]
  },
  {
   "cell_type": "markdown",
   "metadata": {},
   "source": [
    "THIS NOTEBOOK IS BASED ON WEB SCRAPPING INSTAGRAM WITH SILENIUM LIBRARY.\n",
    "THESE CODES HAVE BEEN MADE COMFORTABLE TO FIT FOR ALL KIND OF USERS AND HAS SOLUTIONS FOR ALL THE ISSUES REGARDING WEBSCRAPPING. AND ALSO THESE CODES ARE EXTRACTING FULL SIZE OF IMAGES NOT ONLY THE THUMBNAILS."
   ]
  },
  {
   "cell_type": "markdown",
   "metadata": {},
   "source": [
    "#### Importing Important Libraries"
   ]
  },
  {
   "cell_type": "code",
   "execution_count": 1,
   "metadata": {},
   "outputs": [],
   "source": [
    "#!pip install selenium\n",
    "#import selenium libraries\n",
    "from selenium import webdriver\n",
    "from selenium.webdriver.common.keys import Keys\n",
    "from selenium.webdriver.support import expected_conditions as EC\n",
    "from selenium.webdriver.common.by import By\n",
    "from selenium.webdriver.support.wait import WebDriverWait\n",
    "import time #This module provides various functions to manipulate time values."
   ]
  },
  {
   "cell_type": "markdown",
   "metadata": {},
   "source": [
    "### You can run Selenium-Python script according to your WebDriver. So here I am using ChromeDriver. Download the latest stable release of ChromeDriver from the given link below:\n",
    "https://chromedriver.chromium.org/"
   ]
  },
  {
   "cell_type": "markdown",
   "metadata": {},
   "source": [
    "### Log in to your Instagram Account"
   ]
  },
  {
   "cell_type": "code",
   "execution_count": 2,
   "metadata": {},
   "outputs": [],
   "source": [
    "#specify the path to chromedriver.exe (download and save on your computer)\n",
    "driver = webdriver.Chrome('C:\\\\Users\\\\SUBRAT PATRA\\\\Downloads\\\\Compressed\\\\chromedriver.exe')\n",
    "\n",
    "#open the webpage of Instagram\n",
    "driver.get(\"http://www.instagram.com\")"
   ]
  },
  {
   "cell_type": "code",
   "execution_count": 3,
   "metadata": {},
   "outputs": [],
   "source": [
    "#target username and password\n",
    "#selecting input field\n",
    "\n",
    "username = WebDriverWait(driver, 10).until(EC.element_to_be_clickable((By.CSS_SELECTOR, \"input[name='username']\")))\n",
    "password = WebDriverWait(driver, 10).until(EC.element_to_be_clickable((By.CSS_SELECTOR, \"input[name='password']\")))\n"
   ]
  },
  {
   "cell_type": "markdown",
   "metadata": {},
   "source": [
    "### What is CSS_SELECTOR ?\n",
    "#### Essentially, the CSS Selector combines an element selector and a selector value that can identify particular elements on a web page. Like XPath, CSS selector can be used to locate web elements without ID, class, or Name."
   ]
  },
  {
   "cell_type": "code",
   "execution_count": 4,
   "metadata": {},
   "outputs": [],
   "source": [
    "#enter username and password\n",
    "#proceeding to use own information\n",
    "username.clear()\n",
    "username.send_keys(\"sketch_listening__\")\n",
    "password.clear()\n",
    "password.send_keys(\"ilovedeepikapadukone\")"
   ]
  },
  {
   "cell_type": "code",
   "execution_count": 5,
   "metadata": {},
   "outputs": [],
   "source": [
    "#target the login button and click it\n",
    "log_in = WebDriverWait(driver, 2).until(EC.element_to_be_clickable((By.CSS_SELECTOR, \"button[type='submit']\"))).click()\n",
    "\n",
    "#submit:An Expectation for checking an element is visible and enabled such that you can click it.\n"
   ]
  },
  {
   "cell_type": "markdown",
   "metadata": {},
   "source": [
    "#### Bang on! We are logged in."
   ]
  },
  {
   "cell_type": "markdown",
   "metadata": {},
   "source": [
    "### Handle Alerts\n",
    "#### you might only get a single alert, or you might get two of them please adjust the cell below accordingly."
   ]
  },
  {
   "cell_type": "code",
   "execution_count": 6,
   "metadata": {},
   "outputs": [],
   "source": [
    "#to proceed further lets just get into \"Not now\" \n",
    "\n",
    "time.sleep(5) #Delay execution for a given number of seconds\n",
    "\n",
    "not_now = WebDriverWait(driver, 15).until(EC.element_to_be_clickable((By.XPATH, '//button[contains(text(), \"Not Now\")]'))).click()\n",
    "\n",
    "# first not_now alert is for to save login information or not.\n",
    "    \n"
   ]
  },
  {
   "cell_type": "code",
   "execution_count": 7,
   "metadata": {},
   "outputs": [],
   "source": [
    "not_now2 = WebDriverWait(driver, 15).until(EC.element_to_be_clickable((By.XPATH, '//button[contains(text(), \"Not Now\")]'))).click()\n",
    "\n",
    "# second not_now alert is for turn on notifications or not."
   ]
  },
  {
   "cell_type": "markdown",
   "metadata": {},
   "source": [
    "### What is XPATH?\n",
    "#### In Selenium automation, if the elements are not found by the general locators like id, class, name, etc. then XPath is used to find an element on the web page . XPath in Selenium is an XML path used for navigation through the HTML structure of the page. It is a syntax or language for finding any element on a web page using XML path expression. XPath can be used for both HTML and XML documents to find the location of any element on a webpage using HTML DOM structure."
   ]
  },
  {
   "cell_type": "markdown",
   "metadata": {},
   "source": [
    "### Now let's head into the \"Search Box\""
   ]
  },
  {
   "cell_type": "markdown",
   "metadata": {},
   "source": [
    "### Let's search for a certain hashtag. Example: (#earth)"
   ]
  },
  {
   "cell_type": "code",
   "execution_count": 8,
   "metadata": {},
   "outputs": [],
   "source": [
    "#target the search input field\n",
    "searchbox = WebDriverWait(driver, 10).until(EC.element_to_be_clickable((By.XPATH, \"//input[@placeholder='Search']\")))\n",
    "searchbox.clear()"
   ]
  },
  {
   "cell_type": "code",
   "execution_count": 9,
   "metadata": {},
   "outputs": [],
   "source": [
    "#search for the hashtag earth\n",
    "keyword = \"#earth\"\n",
    "searchbox.send_keys(keyword) #send the hashtag to the search field\n",
    "\n",
    "#this will lead to seach for hashtag earth in search box"
   ]
  },
  {
   "cell_type": "code",
   "execution_count": 10,
   "metadata": {},
   "outputs": [],
   "source": [
    "#target on the mentioned hashtag \n",
    "time.sleep(5) # Wait for 5 seconds\n",
    "my_link = WebDriverWait(driver, 10).until(EC.element_to_be_clickable((By.XPATH, \"//a[contains(@href, '/\" + keyword[1:] + \"/')]\")))\n",
    "my_link.click()"
   ]
  },
  {
   "cell_type": "markdown",
   "metadata": {},
   "source": [
    "## Scroll Down\n",
    "\n",
    "### Increase n_scrolls to select more photos (depending on screen resolution)\n",
    "#### Example:\n",
    "\n",
    "- 2 scrolls cover approx. 84 photos\n",
    "- 3 scrolls cover approx. 132 photos"
   ]
  },
  {
   "cell_type": "code",
   "execution_count": 12,
   "metadata": {},
   "outputs": [],
   "source": [
    "#scroll down 2 times\n",
    "#increase the range to sroll more\n",
    "n_scrolls = 2\n",
    "for j in range(0, n_scrolls):\n",
    "    driver.execute_script(\"window.scrollTo(0, document.body.scrollHeight);\")\n",
    "    time.sleep(5)"
   ]
  },
  {
   "cell_type": "code",
   "execution_count": 13,
   "metadata": {},
   "outputs": [
    {
     "name": "stdout",
     "output_type": "stream",
     "text": [
      "Found 45 links to images\n"
     ]
    },
    {
     "data": {
      "text/plain": [
       "['https://www.instagram.com/p/CMj-y3YFw9W/',\n",
       " 'https://www.instagram.com/p/CMkE3j9nTfg/',\n",
       " 'https://www.instagram.com/p/CMkTOxFAmLO/',\n",
       " 'https://www.instagram.com/p/CMkIcDmAH6b/',\n",
       " 'https://www.instagram.com/p/CMkAoq3BwlQ/']"
      ]
     },
     "execution_count": 13,
     "metadata": {},
     "output_type": "execute_result"
    }
   ],
   "source": [
    "#target all the link elements on the page\n",
    "\n",
    "anchors = driver.find_elements_by_tag_name('a')\n",
    "anchors = [a.get_attribute('href') for a in anchors]\n",
    "\n",
    "#narrow down all links to image links only\n",
    "\n",
    "anchors = [a for a in anchors if str(a).startswith(\"https://www.instagram.com/p/\")]\n",
    "\n",
    "print('Found ' + str(len(anchors)) + ' links to images')\n",
    "anchors[:5]"
   ]
  },
  {
   "cell_type": "code",
   "execution_count": 14,
   "metadata": {},
   "outputs": [
    {
     "data": {
      "text/plain": [
       "['https://instagram.fblr1-4.fna.fbcdn.net/v/t51.2885-15/e35/161281040_916520965816769_5372746183060585742_n.jpg?tp=1&_nc_ht=instagram.fblr1-4.fna.fbcdn.net&_nc_cat=1&_nc_ohc=YjWpoFtrV5EAX9IxBoc&ccb=7-4&oh=95dc9f928cd8666494221a3144ce53bd&oe=607DA427&_nc_sid=86f79a',\n",
       " 'https://instagram.fblr1-4.fna.fbcdn.net/v/t51.2885-15/e35/162543015_492536795224495_4780597981339514474_n.jpg?tp=1&_nc_ht=instagram.fblr1-4.fna.fbcdn.net&_nc_cat=1&_nc_ohc=A2gQZWmQ_AoAX8sMFDR&ccb=7-4&oh=b4aa5e35ecb03bdb378ed5e061bb0622&oe=607EE42C&_nc_sid=86f79a',\n",
       " 'https://instagram.fblr1-5.fna.fbcdn.net/v/t51.2885-15/e35/p1080x1080/161254538_312692036953511_7730331982942911213_n.jpg?tp=1&_nc_ht=instagram.fblr1-5.fna.fbcdn.net&_nc_cat=111&_nc_ohc=Ihjl47PFRAcAX9k9Mv2&ccb=7-4&oh=e7ad718cd3d78e7c19fb513cacd1511a&oe=607BE29A&_nc_sid=86f79a',\n",
       " 'https://instagram.fblr1-4.fna.fbcdn.net/v/t51.2885-15/e35/p1080x1080/161405238_260984018999809_950882679840762589_n.jpg?tp=1&_nc_ht=instagram.fblr1-4.fna.fbcdn.net&_nc_cat=101&_nc_ohc=uaZB8mBKOAAAX8PRK1T&ccb=7-4&oh=4159b449121551016f071f4cb15b011b&oe=607E6655&_nc_sid=86f79a',\n",
       " 'https://instagram.fblr1-4.fna.fbcdn.net/v/t51.2885-15/e35/p1080x1080/161811622_1455253024682108_9192166065504950680_n.jpg?tp=1&_nc_ht=instagram.fblr1-4.fna.fbcdn.net&_nc_cat=1&_nc_ohc=6EB_CIno3k4AX_iJmOX&ccb=7-4&oh=ee93ae717e065eade3f9cd7233a46e22&oe=607E7A5D&_nc_sid=86f79a']"
      ]
     },
     "execution_count": 14,
     "metadata": {},
     "output_type": "execute_result"
    }
   ],
   "source": [
    "images = []\n",
    "\n",
    "#follow each image link and extract only image at index=1\n",
    "#we need to target the source attribute of the images\n",
    "\n",
    "for a in anchors:\n",
    "    driver.get(a)\n",
    "    time.sleep(5)\n",
    "    img = driver.find_elements_by_tag_name('img')\n",
    "    img = [i.get_attribute('src') for i in img]\n",
    "    images.append(img[1])\n",
    "    \n",
    "images[:5]"
   ]
  },
  {
   "cell_type": "markdown",
   "metadata": {},
   "source": [
    "## Save images to the computer"
   ]
  },
  {
   "cell_type": "markdown",
   "metadata": {},
   "source": [
    "###  Save images to computer.\n",
    "### First we'll create a new folder for our images somewhere on our computer.Then, we'll save all the images there."
   ]
  },
  {
   "cell_type": "code",
   "execution_count": 16,
   "metadata": {},
   "outputs": [
    {
     "name": "stdout",
     "output_type": "stream",
     "text": [
      "Collecting wget\n",
      "  Downloading wget-3.2.zip (10 kB)\n",
      "Building wheels for collected packages: wget\n",
      "  Building wheel for wget (setup.py): started\n",
      "  Building wheel for wget (setup.py): finished with status 'done'\n",
      "  Created wheel for wget: filename=wget-3.2-py3-none-any.whl size=9686 sha256=d718ac99b0946ecb3ca13476957f84b1e60493112b9c55a59511c1784a05b471\n",
      "  Stored in directory: c:\\users\\subrat patra\\appdata\\local\\pip\\cache\\wheels\\bd\\a8\\c3\\3cf2c14a1837a4e04bd98631724e81f33f462d86a1d895fae0\n",
      "Successfully built wget\n",
      "Installing collected packages: wget\n",
      "Successfully installed wget-3.2\n"
     ]
    }
   ],
   "source": [
    "#!pip install wget\n",
    "import os\n",
    "import wget"
   ]
  },
  {
   "cell_type": "code",
   "execution_count": 17,
   "metadata": {},
   "outputs": [],
   "source": [
    "path = os.getcwd()\n",
    "path = os.path.join(path, keyword[1:])\n",
    "\n",
    "#instead of mentioning a string word '#earth' I have used keyword which was taken before and also to remove the hashtage I have mentioned the index location. "
   ]
  },
  {
   "cell_type": "code",
   "execution_count": 18,
   "metadata": {},
   "outputs": [
    {
     "data": {
      "text/plain": [
       "'C:\\\\Users\\\\SUBRAT PATRA\\\\Project on DS and Python\\\\earth'"
      ]
     },
     "execution_count": 18,
     "metadata": {},
     "output_type": "execute_result"
    }
   ],
   "source": [
    "#create the directory\n",
    "\n",
    "os.mkdir(path)\n",
    "path"
   ]
  },
  {
   "cell_type": "markdown",
   "metadata": {},
   "source": [
    "### Download  the images"
   ]
  },
  {
   "cell_type": "code",
   "execution_count": 19,
   "metadata": {},
   "outputs": [
    {
     "name": "stdout",
     "output_type": "stream",
     "text": [
      "100% [............................................................................] 183173 / 183173"
     ]
    }
   ],
   "source": [
    "#download images\n",
    "\n",
    "counter = 0\n",
    "for image in images:\n",
    "    save_as = os.path.join(path, keyword[1:] + str(counter) + '.jpg')\n",
    "    wget.download(image, save_as)\n",
    "    counter += 1"
   ]
  },
  {
   "cell_type": "markdown",
   "metadata": {},
   "source": [
    "## Conclusion:"
   ]
  },
  {
   "cell_type": "markdown",
   "metadata": {},
   "source": [
    "### So we concluded that, by using this above set of codeswe can logged into instagram account and also can download the pictures which will be related to the respective hashtag."
   ]
  }
 ],
 "metadata": {
  "kernelspec": {
   "display_name": "Python 3",
   "language": "python",
   "name": "python3"
  },
  "language_info": {
   "codemirror_mode": {
    "name": "ipython",
    "version": 3
   },
   "file_extension": ".py",
   "mimetype": "text/x-python",
   "name": "python",
   "nbconvert_exporter": "python",
   "pygments_lexer": "ipython3",
   "version": "3.8.5"
  }
 },
 "nbformat": 4,
 "nbformat_minor": 4
}
